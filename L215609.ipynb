{
  "cells": [
    {
      "cell_type": "markdown",
      "metadata": {
        "id": "TWWLTwYZorzC"
      },
      "source": [
        "# Introduction To Data Science – Assignment 1\n",
        "\n",
        "---\n",
        "\n",
        "### Sections A – B – C – D\n",
        "\n",
        "---\n",
        "\n",
        "***Instructions***\n",
        "\n",
        "Due Date: Sunday 18th September 2022 – 11:59PM\n",
        "\n",
        "Name the file in the format Lyyxxxx and save it as .ipynb (e.g. L201234.ipynb)\n",
        "\n",
        "Submission will be taken on **GitHub and Google Classroom (submit the .ipynb file)** - Instructions to upload onto GitHub are provided in the link https://docs.google.com/document/d/1BR1ULOGeGWJVU6Rr6Qty1FR-quVRZyRvQGII6nEs-wo/edit?usp=sharing\n",
        "\n",
        "After uploading and submitting the .ipynb file onto Google Classroom, also private comment the link to the GitHub repository.\n",
        "\n",
        "All source files needed to complete this assignment can be found on the following Google Drive link https://drive.google.com/drive/folders/1VrkaVcExGWqilSeh50WZe4gUBjmUiJ9b?usp=sharing\n",
        "\n",
        "TA Emails\n",
        "\n",
        "Section A, C - Muhammad Maarij l192347@lhr.nu.edu.pk\n",
        "\n",
        "Section B, D - Hira Ijaz l192377@lhr.nu.edu.pk\n",
        "\n",
        "Happy Coding 😊\n",
        "\n",
        "---"
      ]
    },
    {
      "cell_type": "markdown",
      "metadata": {
        "id": "arB_0r9H0jjC"
      },
      "source": [
        "---\n",
        "## Question 1\n",
        "---"
      ]
    },
    {
      "cell_type": "markdown",
      "metadata": {
        "id": "qHPTNDy30n99"
      },
      "source": [
        "Define a procedure called \"check_input\" that takes an input as a square list of lists (2D Matrix of N x N) and returns a boolen \"true\" if the input is valid or \"false\" otherwise, according to the following criteria.\n",
        "\n",
        "1. Each coloumn must contain numbers from between 1 and N, with no duplicates.\n",
        "2. Each row must contain numbers from between 1 and N, with no duplicates."
      ]
    },
    {
      "cell_type": "code",
      "execution_count": null,
      "metadata": {
        "id": "S2_Zic322Lt7"
      },
      "outputs": [],
      "source": [
        "# define procedure here\n",
        "\n",
        "from tabnanny import check\n",
        "def check_input(test):\n",
        " for i in range (len(test)):\n",
        "    for j in range (len(test[i])):\n",
        "        if(check((test[i][j]))):\n",
        "            return False\n",
        "        return True\n",
        "\n",
        "test = [[1,2,3],\n",
        "        [2,3,1],\n",
        "        [3,2,1]]\n",
        "\n",
        "print(\"Result = \" , check_input(test))\n"
      ]
    },
    {
      "cell_type": "code",
      "execution_count": null,
      "metadata": {
        "id": "wdL9MWgq2ZbP"
      },
      "outputs": [],
      "source": [
        "# run this block to test code after defining the procedure\n",
        "\n",
        "test1 = [[1, 2, 3],\n",
        "        [2, 3, 1],\n",
        "        [3, 1, 2]]\n",
        "\n",
        "test2 = [[1, 2, 3, 4],\n",
        "        [2, 3, 1, 3],\n",
        "        [3, 1, 2, 3],\n",
        "        [4, 4, 4, 4]]\n",
        "\n",
        "test3 = [['a', 'b', 'c'],\n",
        "        ['b', 'c', 'a'],\n",
        "        ['c', 'a', 'b']]\n",
        "\n",
        "print(check_input(test1)) # must return true\n",
        "print(check_input(test2)) # must return false\n",
        "print(check_input(test3)) # must return false"
      ]
    },
    {
      "cell_type": "markdown",
      "metadata": {
        "id": "4RVTlnhWqOUC"
      },
      "source": [
        "---\n",
        "## Question 2\n",
        "---"
      ]
    },
    {
      "cell_type": "markdown",
      "metadata": {
        "id": "Uyc7JPtNt0pR"
      },
      "source": [
        "**Part A** - Import the file \"StudentMarkSheet.csv\" as a Pandas DataFrame and print the information for the dataframe"
      ]
    },
    {
      "cell_type": "code",
      "execution_count": null,
      "metadata": {
        "id": "wYrt7e6Xop2P"
      },
      "outputs": [],
      "source": [
        "import pandas as pd\n",
        "import numpy as np\n",
        "import matplotlib.pyplot as plt\n",
        "\n",
        "#Q2\n",
        " \n",
        "# (part-A)\n",
        "data = pd.read_csv(\"e:\\StudentMarkSheet.csv\")\n",
        "print(data)\n",
        "print(\"______________________________________________________________________________\\n\")"
      ]
    },
    {
      "cell_type": "markdown",
      "metadata": {
        "id": "jIaMvgcft_i0"
      },
      "source": [
        "**Part B** - Remove any rows that do not contain all the data. Also print the following information.\n",
        "\n",
        "1. Number of rows before\n",
        "2. Number of rows containing null data\n",
        "3. Number of rows after"
      ]
    },
    {
      "cell_type": "code",
      "execution_count": null,
      "metadata": {
        "id": "_ov_SWdxuZUm"
      },
      "outputs": [],
      "source": [
        "#(part-B(1))\n",
        "df = pd.DataFrame(data,index=None)\n",
        "rows = len(df.axes[0])\n",
        "print(\"Total Number Of Rows Before Deletition : \",rows)\n",
        "print(\"______________________________________________________________________________\\n\")\n",
        "\n",
        "#(part-B(2))\n",
        "null_rows =df.isna().sum()\n",
        "print(\"Total Number Of Null Rows in Each Column :\\n\",null_rows)\n",
        "print(\"_______________________________________________________________________________\\n\")\n",
        "\n",
        "#(part-B(3))\n",
        "df = df.dropna()\n",
        "total_rows = len(df.axes[0])\n",
        "print(\"Total Number Of Rows After Deletition Of Null Rows : \",total_rows)\n",
        "pd.set_option(\"display.max_rows\" ,None,\"display.max_columns\",None)\n",
        "print(\"Data-Frame after deletition of null rows \\n\",df)\n",
        "print(\"_______________________________________________________________________________\\n\")"
      ]
    },
    {
      "cell_type": "markdown",
      "metadata": {
        "id": "2kd9zAX6wkXM"
      },
      "source": [
        "**Part C** - Print all the marks along with the subject for the student named \"James Walker\""
      ]
    },
    {
      "cell_type": "code",
      "execution_count": null,
      "metadata": {
        "id": "N0HWJN-PwuSo"
      },
      "outputs": [],
      "source": [
        "df = df[df['Student name'].str.contains('James Walker')]\n",
        "print(df)\n",
        "print(\"________________________________________________________________________________\\n\")\n"
      ]
    },
    {
      "cell_type": "markdown",
      "metadata": {
        "id": "ts8Y1EXmwzhf"
      },
      "source": [
        "---\n",
        "## Question 3\n",
        "---"
      ]
    },
    {
      "cell_type": "markdown",
      "metadata": {
        "id": "PJENm_hpw3GQ"
      },
      "source": [
        "**Part A** - From the DataFrame created in Question 2, calculate the average marks for each subject"
      ]
    },
    {
      "cell_type": "code",
      "execution_count": null,
      "metadata": {
        "id": "AxhCtST5xS3L"
      },
      "outputs": [],
      "source": [
        "a_biology = data[data['Exam name'] == 'Biology']['Marks'] . mean()\n",
        "a__mathematics = data[data['Exam name'] == 'Mathematics']['Marks'].mean()\n",
        "a_chemistry = data[data['Exam name'] == 'Chemistry']['Marks'].mean()\n",
        "a_physics = data[data['Exam name'] == 'Physics']['Marks'].mean()\n",
        "a_philosophy = data[data['Exam name'] == 'Philosophy']['Marks'].mean()\n",
        "a_sociology = data[data['Exam name'] == 'Sociology']['Marks'].mean()\n",
        "\n",
        "print(\"Average Marks Of Biology : \" , a_biology)\n",
        "print(\"Average Marks Of Mathematics : \" , a__mathematics)\n",
        "print(\"Average Marks of Chemistry : \" , a_chemistry)\n",
        "print(\"Average Marks Of Physics : \" , a_physics)\n",
        "print(\"Average Marks Of Philosophy : \" , a_philosophy)\n",
        "print(\"Average Marks Of Sociology : \" , a_sociology)\n",
        "print(\"___________________________________________________________________________________\\n\")\n"
      ]
    },
    {
      "cell_type": "markdown",
      "metadata": {
        "id": "NDlaA7hHxUBc"
      },
      "source": [
        "**Part B** - Using the averages you just calculated, plot a Bar Graph showing the average marks of each subject"
      ]
    },
    {
      "cell_type": "code",
      "execution_count": null,
      "metadata": {
        "id": "LWoPFZBOyyNn"
      },
      "outputs": [],
      "source": [
        "train_x = np.array([\"Biology\" , \"Mathemetics\" , \"Chemistry\" , \"Physics\" , \"Philosophy\" , \"Sociology\"])\n",
        "train_y = np.array([a_biology , a__mathematics , a_chemistry , a_physics , a_philosophy , a_sociology])\n",
        "plt.bar(train_x, train_y)\n",
        "plt.xlabel(\"Subject\")\n",
        "plt.ylabel(\"Average Marks\")\n",
        "plt.show()"
      ]
    },
    {
      "cell_type": "markdown",
      "metadata": {
        "id": "dWlOSOIs6d1R"
      },
      "source": [
        "---\n",
        "## Question 4\n",
        "---"
      ]
    },
    {
      "cell_type": "markdown",
      "metadata": {
        "id": "b4s-pN4v6kgb"
      },
      "source": [
        "**Part A** - Import the file \"CatData.csv\" and preprocess it to remove any null values"
      ]
    },
    {
      "cell_type": "code",
      "execution_count": null,
      "metadata": {
        "id": "mvZ3xrBV9b1s"
      },
      "outputs": [],
      "source": [
        "df =pd.DataFrame(data,index=None)\n",
        "df = df.dropna()\n",
        "pd.set_option(\"display.max_rows\" ,None,\"display.max_columns\",None)\n",
        "print(df)"
      ]
    },
    {
      "cell_type": "markdown",
      "metadata": {
        "id": "bWxuB3ep9SWA"
      },
      "source": [
        "**Part B** - Identify the independant and dependant variables (comment answer below)"
      ]
    },
    {
      "cell_type": "code",
      "execution_count": null,
      "metadata": {
        "id": "TS9tvuRt9cWr"
      },
      "outputs": [],
      "source": [
        "# dependant variable: Mass(y)\n",
        "# independant variable: Tail Length(cm)(x)"
      ]
    },
    {
      "cell_type": "markdown",
      "metadata": {
        "id": "xPHVA3cX7uk9"
      },
      "source": [
        "**Part C** - Create a linear regression model using sklearn and fit it to the data you just imported\n"
      ]
    },
    {
      "cell_type": "code",
      "execution_count": null,
      "metadata": {
        "id": "WYVNRotH9cyo"
      },
      "outputs": [],
      "source": [
        "num = int(len(data)*0.8)\n",
        "train = data[:num]\n",
        "regr = linear_model.LinearRegression()\n",
        "\n",
        "train_x = np.array(train[[\"Tail Length (cm)\"]])\n",
        "train_y = np.array(train[[\"Mass (kg)\"]])\n",
        "regr.fit(train_x,train_y)"
      ]
    },
    {
      "cell_type": "markdown",
      "metadata": {
        "id": "0QMipKhb830G"
      },
      "source": [
        "**Part D** - Print the values for slope and y-intercept"
      ]
    },
    {
      "cell_type": "code",
      "execution_count": null,
      "metadata": {
        "id": "R7cvi3KB9dJh"
      },
      "outputs": [],
      "source": [
        "def simple_linear_regression(input_feature , output):\n",
        "    \n",
        "    Xi = input_feature\n",
        "    Yi = output\n",
        "    \n",
        "    n =len(Xi)\n",
        "    Xi_mean = Xi.mean()\n",
        "    Yi_mean = Yi.mean()\n",
        "    S_Xi = (Xi).sum()\n",
        "    S_Yi = (Yi).sum()\n",
        "    S_XiYi = ((Xi*Yi).sum())*n\n",
        "    S_Xi_S_Yi = S_Xi * S_Yi\n",
        "    S_XiXi =((Xi*Xi).sum())*n\n",
        "    S_Xi_Square = S_Xi * S_Xi\n",
        "    slope = (S_XiYi - S_Xi_S_Yi) / (S_XiXi - S_Xi_Square)\n",
        "    intercept = Yi_mean - slope * Xi_mean\n",
        "    return slope , intercept\n",
        "\n",
        "actual_slope , actual_intercept = simple_linear_regression(train[\"Tail Length (cm)\"] , train[\"Mass (kg)\"])\n",
        "print (\"Slope : \" , actual_slope)\n",
        "print (\"Intercept : \" , actual_intercept)"
      ]
    },
    {
      "cell_type": "markdown",
      "metadata": {
        "id": "IIq-BQYp_i33"
      },
      "source": [
        "**Part E** - Plot a scatter graph of the original data and a regression line on the same figure (example with dummy data shown below)\n",
        "\n",
        "![](https://drive.google.com/uc?export=view&id=1o_NAsNjfx7zAh9m-UjvWB3rta6uraKdY)"
      ]
    },
    {
      "cell_type": "code",
      "execution_count": null,
      "metadata": {
        "id": "jhz8gTYt_lCn"
      },
      "outputs": [],
      "source": [
        "plt.scatter(train[\"Tail Length (cm)\"], train[\"Mass (kg)\"])\n",
        "plt.plot(train[\"Mass (kg)\"],actual_slope*train[\"Tail Length (cm)\"] + actual_intercept, color=\"green\")\n",
        "plt.xlabel(\"Tail Length(cm)\")\n",
        "plt.ylabel(\"Mass (kg)\")\n",
        "plt.show()"
      ]
    }
  ],
  "metadata": {
    "colab": {
      "collapsed_sections": [],
      "provenance": []
    },
    "kernelspec": {
      "display_name": "Python 3.10.7 64-bit",
      "language": "python",
      "name": "python3"
    },
    "language_info": {
      "name": "python",
      "version": "3.10.7"
    },
    "vscode": {
      "interpreter": {
        "hash": "369f2c481f4da34e4445cda3fffd2e751bd1c4d706f27375911949ba6bb62e1c"
      }
    }
  },
  "nbformat": 4,
  "nbformat_minor": 0
}
